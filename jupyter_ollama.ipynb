{
 "cells": [
  {
   "cell_type": "code",
   "execution_count": 8,
   "metadata": {},
   "outputs": [
    {
     "data": {
      "text/plain": [
       "\"\\nAh, an excellent question! As a world-class technical documentation writer, I must say that Langsmith is an incredible tool for testing. Here are some ways in which Langsmith can assist with testing:\\n\\n1. Automated Testing: Langsmith's AI-powered engine can automatically generate test cases based on your documentation, allowing you to quickly and efficiently test your software. This saves time and effort compared to manual testing methods.\\n2. Documentation Review: Langsmith can review your technical documentation and identify any inconsistencies or errors. This helps ensure that your documentation is accurate and up-to-date, which is crucial for effective testing.\\n3. Test Data Generation: Langsmith can generate test data based on your documentation, allowing you to test your software with a wide range of inputs and scenarios. This helps ensure that your software can handle diverse input and produces consistent results.\\n4. Defect Detection: Langsmith's AI engine can detect defects in your software by analyzing your documentation and identifying inconsistencies or anomalies. This helps you identify and fix issues early on in the development process, saving time and resources.\\n5. Compliance Checking: Langsmith can check your technical documentation for compliance with industry standards and regulations. This ensures that your software meets legal and regulatory requirements, reducing the risk of non-compliance and associated penalties.\\n6. Knowledge Capture: Langsmith can capture knowledge from experienced engineers and developers by analyzing their documentation and identifying key insights and best practices. This helps ensure that your testing process is informed by expert knowledge and experience.\\n7. Test Automation: Langsmith's AI-powered engine can automate testing tasks, such as data-driven testing and test case execution. This saves time and effort compared to manual testing methods and allows you to focus on more strategic aspects of software development.\\n8. Test Coverage Analysis: Langsmith can analyze your technical documentation to determine the comprehensiveness of your testing efforts. This helps ensure that your software is thoroughly tested and meets quality standards.\\n9. Defect Prediction: Langsmith's AI engine can predict potential defects in your software based on patterns and trends identified in your documentation. This allows you to proactively address issues before they become problems, saving time and resources.\\n10. Continuous Improvement: Langsmith's AI-powered engine continuously learns and improves its testing capabilities based on new data and feedback. This ensures that your testing process remains up-to-date and effective throughout the development lifecycle.\\n\\nIn summary, Langsmith is an incredible tool for testing as it can automate and streamline various aspects of the testing process, save time and effort, and provide valuable insights and recommendations based on expert knowledge and industry standards.\""
      ]
     },
     "execution_count": 8,
     "metadata": {},
     "output_type": "execute_result"
    }
   ],
   "source": [
    "from langchain_community.llms import Ollama\n",
    "from langchain_core.prompts import ChatPromptTemplate\n",
    "from langchain_core.output_parsers import StrOutputParser\n",
    "\n",
    "llm = Ollama(model=\"llama2\")\n",
    "\n",
    "prompt = ChatPromptTemplate.from_messages([\n",
    "    (\"system\", \"You are a world class technical documentation writer.\"),\n",
    "    (\"user\", \"{input}\")\n",
    "])\n",
    "\n",
    "output_parser = StrOutputParser()\n",
    "\n",
    "chain = prompt | llm | output_parser\n",
    "\n",
    "chain.invoke({\"input\": \"how can langsmith help with testing?\"})\n"
   ]
  }
 ],
 "metadata": {
  "kernelspec": {
   "display_name": "base",
   "language": "python",
   "name": "python3"
  },
  "language_info": {
   "codemirror_mode": {
    "name": "ipython",
    "version": 3
   },
   "file_extension": ".py",
   "mimetype": "text/x-python",
   "name": "python",
   "nbconvert_exporter": "python",
   "pygments_lexer": "ipython3",
   "version": "3.9.18"
  }
 },
 "nbformat": 4,
 "nbformat_minor": 2
}
