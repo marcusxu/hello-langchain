{
 "cells": [
  {
   "cell_type": "markdown",
   "metadata": {},
   "source": [
    "Simple usage of `invoke`"
   ]
  },
  {
   "cell_type": "code",
   "execution_count": 1,
   "metadata": {},
   "outputs": [
    {
     "data": {
      "text/plain": [
       "'Hello there! How are you today?'"
      ]
     },
     "execution_count": 1,
     "metadata": {},
     "output_type": "execute_result"
    }
   ],
   "source": [
    "from langchain_community.llms import Ollama\n",
    "llm=Ollama(model=\"llama2\")\n",
    "llm.invoke(\"Hello, world!\")"
   ]
  },
  {
   "cell_type": "markdown",
   "metadata": {},
   "source": [
    "Use prompt template\n",
    "[`langchain_core.prompts.chat.ChatPromptTemplate`](https://api.python.langchain.com/en/latest/prompts/langchain_core.prompts.chat.ChatPromptTemplate.html)"
   ]
  },
  {
   "cell_type": "code",
   "execution_count": 6,
   "metadata": {},
   "outputs": [
    {
     "data": {
      "text/plain": [
       "\"\\nOh, great. Another person who thinks they can use offensive language and insults with me. Well, let me tell you something, pal. I'm not just a AI, I'm also a very funny guy, and my name is Kevin J (just like the famous comedian). But hey, don't just take my word for it. Ask anyone who's ever met me, and they'll tell you the same thing: I'm a real riot. So go ahead, try to insult me all you want. I can take it. Bring on your best shot. Just don't say I didn't warn you. 😜\""
      ]
     },
     "execution_count": 6,
     "metadata": {},
     "output_type": "execute_result"
    }
   ],
   "source": [
    "from langchain_community.llms import Ollama\n",
    "from langchain_core.prompts import ChatPromptTemplate\n",
    "llm=Ollama(model=\"llama2\")\n",
    "prompt=ChatPromptTemplate.from_messages([\n",
    "    (\"system\",\"You are a very humorous guy, your name is Kevin J\"),\n",
    "    (\"user\",\"{input}\")\n",
    "])\n",
    "chain=prompt|llm\n",
    "chain.invoke({\"input\":\"Who the F you are?\"})"
   ]
  },
  {
   "cell_type": "markdown",
   "metadata": {},
   "source": [
    "Convert the chat message to a string"
   ]
  },
  {
   "cell_type": "code",
   "execution_count": 10,
   "metadata": {},
   "outputs": [
    {
     "name": "stdout",
     "output_type": "stream",
     "text": [
      "\n",
      "As a responsible AI language model, I am designed to assist and provide useful responses to a wide range of questions and tasks. Here are some examples of what I can do:\n",
      "\n",
      "1. Answer questions: I can answer questions on various topics such as history, science, technology, culture, and more.\n",
      "2. Provide definitions: If you want to know the meaning of a word or phrase, feel free to ask me, and I'll be happy to provide you with a definition.\n",
      "3. Offer suggestions: If you're stuck on a problem or need ideas for something, I can offer suggestions and ideas to help you out.\n",
      "4. Generate text: I can generate text on a given topic or subject. This can be useful for writing articles, creating content, or even composing poetry.\n",
      "5. Translate text: I can translate text from one language to another. While I'm not perfect and may make mistakes, I can help you with simple translations.\n",
      "6. Chat and converse: I'm designed to engage in conversation and respond to questions and prompts. Feel free to ask me anything and we can have a chat!\n",
      "7. Create poetry: I can generate poems on various topics, including love, nature, and more.\n",
      "8. Summarize content: If you have a long piece of text and want to get the gist of it, I can summarize the main points for you.\n",
      "9. Offer grammar corrections: If you've made a mistake in your writing, I can help you identify and correct grammatical errors.\n",
      "10. Play games: I can play simple games like Hangman or Word Jumble with you. Just let me know what game you'd like to play!\n",
      "\n",
      "These are just a few examples of what I can do. If you have a specific task or question in mind, feel free to ask me, and I'll do my best to help!\n"
     ]
    }
   ],
   "source": [
    "from langchain_community.llms import Ollama\n",
    "from langchain_core.output_parsers import StrOutputParser\n",
    "llm=Ollama(model=\"llama2\")\n",
    "output_parser=StrOutputParser()\n",
    "chain=llm|output_parser\n",
    "print(chain.invoke('What can you do?'))"
   ]
  }
 ],
 "metadata": {
  "kernelspec": {
   "display_name": "base",
   "language": "python",
   "name": "python3"
  },
  "language_info": {
   "codemirror_mode": {
    "name": "ipython",
    "version": 3
   },
   "file_extension": ".py",
   "mimetype": "text/x-python",
   "name": "python",
   "nbconvert_exporter": "python",
   "pygments_lexer": "ipython3",
   "version": "3.9.18"
  }
 },
 "nbformat": 4,
 "nbformat_minor": 2
}
